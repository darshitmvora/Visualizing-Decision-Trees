{
 "cells": [
  {
   "cell_type": "code",
   "execution_count": 1,
   "metadata": {},
   "outputs": [],
   "source": [
    "import numpy as np\n",
    "import pandas as pd\n",
    "import graphviz\n",
    "import graphviz.backend\n",
    "from numpy.distutils.system_info import f2py_info\n",
    "from sklearn import tree\n",
    "from sklearn.datasets import load_boston, load_iris, load_wine, load_digits, load_breast_cancer, load_diabetes, fetch_mldata\n",
    "from sklearn.model_selection import cross_val_score, train_test_split, GridSearchCV\n",
    "from sklearn.metrics import confusion_matrix, classification_report\n",
    "from matplotlib.figure import figaspect\n",
    "import string\n",
    "import re\n",
    "import matplotlib.pyplot as plt\n",
    "import seaborn as sns\n",
    "from dtreeviz.shadow import *\n",
    "from numbers import Number\n",
    "import matplotlib.patches as patches\n",
    "from scipy import stats\n",
    "from sklearn.neighbors import KernelDensity\n",
    "import inspect, sys, tempfile\n",
    "from IPython.display import SVG, display\n",
    "import pickle\n",
    "from dtreeviz.trees import *"
   ]
  },
  {
   "cell_type": "code",
   "execution_count": null,
   "metadata": {},
   "outputs": [],
   "source": [
    "regr = tree.DecisionTreeRegressor(max_depth=3, random_state=666)\n",
    "boston = load_boston()\n",
    "\n",
    "regr.fit(boston.data, boston.target)\n",
    "\n",
    "\n",
    "viz = dtreeviz(regr, boston.data, boston.target, target_name='price',\n",
    "              feature_names=boston.feature_names, orientation=orientation,\n",
    "              fancy=fancy,\n",
    "              X=None)"
   ]
  }
 ],
 "metadata": {
  "kernelspec": {
   "display_name": "Python 3",
   "language": "python",
   "name": "python3"
  },
  "language_info": {
   "codemirror_mode": {
    "name": "ipython",
    "version": 3
   },
   "file_extension": ".py",
   "mimetype": "text/x-python",
   "name": "python",
   "nbconvert_exporter": "python",
   "pygments_lexer": "ipython3",
   "version": "3.6.6"
  }
 },
 "nbformat": 4,
 "nbformat_minor": 2
}
